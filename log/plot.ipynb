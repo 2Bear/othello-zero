{
 "cells": [
  {
   "cell_type": "code",
   "execution_count": null,
   "metadata": {},
   "outputs": [],
   "source": [
    "import matplotlib.lines as mlines\n",
    "import matplotlib.pyplot as plt\n",
    "import numpy as np\n",
    "\n",
    "def moving_average(x, n):\n",
    "    x = np.asarray(x)\n",
    "    weights = np.ones(n)\n",
    "    weights /= weights.sum()\n",
    "    return np.convolve(x, weights, mode='full')[:len(x)]"
   ]
  },
  {
   "cell_type": "code",
   "execution_count": null,
   "metadata": {},
   "outputs": [],
   "source": [
    "# data config\n",
    "moving_average_width = 4000\n",
    "log_path = \"./loss_log.csv\"\n",
    "\n",
    "# load data\n",
    "global_step, p_loss, v_loss = np.loadtxt(log_path, delimiter=',', unpack=True)\n",
    "p_v_loss = p_loss + v_loss\n",
    "p_loss_ma = moving_average(p_loss, moving_average_width)\n",
    "v_loss_ma = moving_average(v_loss, moving_average_width)\n",
    "p_v_loss_ma = p_loss_ma + v_loss_ma"
   ]
  },
  {
   "cell_type": "code",
   "execution_count": null,
   "metadata": {},
   "outputs": [],
   "source": [
    "# plot config\n",
    "show_each_loss = False\n",
    "green_color = [29 / 255.0, 177 / 255.0, 0]\n",
    "blue_color = [0, 118 / 255.0, 186 / 255.0]\n",
    "yellow_color = [255 / 255.0, 106 / 255.0, 0]\n",
    "\n",
    "# draw plot\n",
    "plt.figure()\n",
    "plt.grid(alpha=0.4)\n",
    "\n",
    "if show_each_loss:\n",
    "    plt.plot(global_step[moving_average_width:], v_loss_ma[moving_average_width:], color=green_color)\n",
    "    plt.plot(global_step[moving_average_width:], p_loss_ma[moving_average_width:], color=blue_color)\n",
    "    plt.plot(global_step, v_loss, color=green_color, alpha=0.2)\n",
    "    plt.plot(global_step, p_loss, color=blue_color, alpha=0.2)\n",
    "    plt.scatter(global_step[-1], v_loss_ma[-1], s=50, color=green_color)\n",
    "    plt.scatter(global_step[-1], p_loss_ma[-1], s=50, color=blue_color)\n",
    "    legend_v_loss = mlines.Line2D([], [], color=green_color, label='v_loss')\n",
    "    legend_p_loss = mlines.Line2D([], [], color=blue_color, label='p_loss')\n",
    "    plt.legend(handles=[legend_p_loss,legend_v_loss])\n",
    "else:\n",
    "    plt.plot(global_step[moving_average_width:], p_v_loss_ma[moving_average_width:], color=yellow_color)\n",
    "    plt.plot(global_step, p_v_loss, color=yellow_color, alpha=0.2)\n",
    "    plt.scatter(global_step[-1], p_v_loss_ma[-1], s=50, color=yellow_color)\n",
    "    legend_p_v_loss = mlines.Line2D([], [], color=yellow_color, label='p_loss + v_loss')\n",
    "    plt.legend(handles=[legend_p_v_loss])\n",
    "\n",
    "plt.xlabel(u'global step', fontsize=12, alpha=0.5)\n",
    "plt.ylabel(u'loss', fontsize=12, alpha=0.5)\n",
    "plt.show()"
   ]
  },
  {
   "cell_type": "code",
   "execution_count": null,
   "metadata": {},
   "outputs": [],
   "source": []
  }
 ],
 "metadata": {
  "kernelspec": {
   "display_name": "Python 3",
   "language": "python",
   "name": "python3"
  },
  "language_info": {
   "codemirror_mode": {
    "name": "ipython",
    "version": 3
   },
   "file_extension": ".py",
   "mimetype": "text/x-python",
   "name": "python",
   "nbconvert_exporter": "python",
   "pygments_lexer": "ipython3",
   "version": "3.5.0"
  }
 },
 "nbformat": 4,
 "nbformat_minor": 2
}
